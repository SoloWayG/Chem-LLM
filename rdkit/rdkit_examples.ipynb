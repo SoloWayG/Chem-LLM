{
 "cells": [
  {
   "cell_type": "code",
   "execution_count": 11,
   "metadata": {},
   "outputs": [],
   "source": [
    "import rdkit"
   ]
  },
  {
   "cell_type": "code",
   "execution_count": 12,
   "metadata": {},
   "outputs": [],
   "source": [
    "m1 = rdkit.Chem.MolFromSmiles('CC(=O)C=CC=C')\n",
    "m2 = rdkit.Chem.MolFromSmiles('COC1=CC2=C(NC(=N2)[S@@](=O)CC2=NC=C(C)C(OC)=C2C)C=C1')"
   ]
  },
  {
   "cell_type": "code",
   "execution_count": 5,
   "metadata": {},
   "outputs": [
    {
     "ename": "AttributeError",
     "evalue": "module 'rdkit.Chem' has no attribute 'rdPartialCharges'",
     "output_type": "error",
     "traceback": [
      "\u001b[0;31m---------------------------------------------------------------------------\u001b[0m",
      "\u001b[0;31mAttributeError\u001b[0m                            Traceback (most recent call last)",
      "Cell \u001b[0;32mIn[5], line 1\u001b[0m\n\u001b[0;32m----> 1\u001b[0m \u001b[43mrdkit\u001b[49m\u001b[38;5;241;43m.\u001b[39;49m\u001b[43mChem\u001b[49m\u001b[38;5;241;43m.\u001b[39;49m\u001b[43mrdPartialCharges\u001b[49m\n",
      "\u001b[0;31mAttributeError\u001b[0m: module 'rdkit.Chem' has no attribute 'rdPartialCharges'"
     ]
    }
   ],
   "source": [
    "rdkit.Chem.rdPartialCharges"
   ]
  },
  {
   "cell_type": "code",
   "execution_count": 6,
   "metadata": {},
   "outputs": [],
   "source": [
    "import rdkit.Chem.AllChem"
   ]
  },
  {
   "cell_type": "code",
   "execution_count": 9,
   "metadata": {},
   "outputs": [
    {
     "data": {
      "text/plain": [
       "<module 'rdkit.Chem.GraphDescriptors' from '/home/kolyan288/.local/lib/python3.10/site-packages/rdkit/Chem/GraphDescriptors.py'>"
      ]
     },
     "execution_count": 9,
     "metadata": {},
     "output_type": "execute_result"
    }
   ],
   "source": [
    "\n",
    "\n",
    "\n",
    "import rdkit.Chem.GraphDescriptors\n",
    "\n",
    "\n",
    "rdkit.Chem.GraphDescriptors"
   ]
  },
  {
   "cell_type": "code",
   "execution_count": 19,
   "metadata": {},
   "outputs": [],
   "source": [
    "from rdkit.Chem import rdPartialCharges\n",
    "from rdkit.Chem.GraphDescriptors import AvgIpc, BalabanJ, BertzCT, Chi0, Chi1, Ipc, HallKierAlpha, Kappa1, Kappa2, Kappa3\n",
    "#from rdkit.Chem.Crippen import MolLogP, MolMR\n",
    "\n",
    "# AvgIpc, BalabanJ, BertzCT, Chi0, Chi1, Ipc, HallKierAlpha, Kappa1, Kappa2, Kappa3, MolLogP, MolMR"
   ]
  },
  {
   "cell_type": "code",
   "execution_count": 26,
   "metadata": {},
   "outputs": [
    {
     "name": "stdout",
     "output_type": "stream",
     "text": [
      "1.6121972227029933\n",
      "3.0065977799893377\n"
     ]
    }
   ],
   "source": [
    "print(AvgIpc(m1))\n",
    "print(AvgIpc(m2))"
   ]
  },
  {
   "cell_type": "code",
   "execution_count": 31,
   "metadata": {},
   "outputs": [
    {
     "name": "stdout",
     "output_type": "stream",
     "text": [
      "3.4590699711563735\n",
      "1.9005728339415113\n"
     ]
    }
   ],
   "source": [
    "print(BalabanJ(m1))\n",
    "print(BalabanJ(m2))"
   ]
  },
  {
   "cell_type": "code",
   "execution_count": 28,
   "metadata": {},
   "outputs": [
    {
     "name": "stdout",
     "output_type": "stream",
     "text": [
      "6.1499999999999995\n",
      "16.447862009987272\n"
     ]
    }
   ],
   "source": [
    "print(Kappa1(m1))\n",
    "print(Kappa1(m2))"
   ]
  },
  {
   "cell_type": "code",
   "execution_count": 27,
   "metadata": {},
   "outputs": [
    {
     "name": "stdout",
     "output_type": "stream",
     "text": [
      "5.698670612749268\n",
      "17.26722023457211\n"
     ]
    }
   ],
   "source": [
    "print(Chi0(m1))\n",
    "print(Chi0(m2))"
   ]
  },
  {
   "cell_type": "code",
   "execution_count": 29,
   "metadata": {},
   "outputs": [
    {
     "name": "stdout",
     "output_type": "stream",
     "text": [
      "1.3175999999999999\n",
      "2.8997400000000013\n"
     ]
    }
   ],
   "source": [
    "print(MolLogP(m1))\n",
    "print(MolLogP(m2))"
   ]
  },
  {
   "cell_type": "code",
   "execution_count": 30,
   "metadata": {},
   "outputs": [
    {
     "name": "stdout",
     "output_type": "stream",
     "text": [
      "30.017999999999986\n",
      "93.02110000000003\n"
     ]
    }
   ],
   "source": [
    "print(MolMR(m1))\n",
    "print(MolMR(m2))"
   ]
  },
  {
   "cell_type": "code",
   "execution_count": 32,
   "metadata": {},
   "outputs": [],
   "source": [
    "from rdkit.Chem.GraphDescriptors import HallKierAlpha"
   ]
  },
  {
   "cell_type": "code",
   "execution_count": 34,
   "metadata": {},
   "outputs": [
    {
     "data": {
      "text/plain": [
       "-0.8500000000000001"
      ]
     },
     "execution_count": 34,
     "metadata": {},
     "output_type": "execute_result"
    }
   ],
   "source": [
    "HallKierAlpha(m1)"
   ]
  },
  {
   "cell_type": "code",
   "execution_count": 38,
   "metadata": {},
   "outputs": [
    {
     "name": "stdout",
     "output_type": "stream",
     "text": [
      "Косинусное сходство между строками: 0.0\n"
     ]
    }
   ],
   "source": [
    "from sklearn.feature_extraction.text import TfidfVectorizer\n",
    "from sklearn.metrics.pairwise import cosine_similarity\n",
    "\n",
    "# Две строки для сравнения\n",
    "string1 = \"HallKiеrАlphа\"\n",
    "string2 = \"HallKierAlpha\"\n",
    "\n",
    "# Инициализация векторизатора TF-IDF\n",
    "vectorizer = TfidfVectorizer()\n",
    "\n",
    "# Векторизация строк\n",
    "tfidf_matrix = vectorizer.fit_transform([string1, string2])\n",
    "\n",
    "# Вычисление косинусного сходства\n",
    "cosine_sim = cosine_similarity(tfidf_matrix[0:1], tfidf_matrix[1:2])\n",
    "\n",
    "print(f\"Косинусное сходство между строками: {cosine_sim[0][0]}\")"
   ]
  },
  {
   "cell_type": "code",
   "execution_count": 2,
   "metadata": {},
   "outputs": [
    {
     "name": "stdout",
     "output_type": "stream",
     "text": [
      "Функцию MolLogP нельзя импортировать из rdkit.\n"
     ]
    }
   ],
   "source": [
    "import importlib\n",
    "\n",
    "def can_import(module_name, function_name):\n",
    "    try:\n",
    "        # Попытка импортировать модуль и функцию\n",
    "        module = importlib.import_module(module_name)\n",
    "        if hasattr(module, function_name):\n",
    "            return True\n",
    "        else:\n",
    "            return False\n",
    "    except ImportError as e:\n",
    "        print(f\"Ошибка импорта: {e}\")\n",
    "        return False\n",
    "\n",
    "# Пример использования:\n",
    "module_name = 'rdkit'  # Или другой модуль, где может находиться функция\n",
    "function_name = 'MolLogP'  # Имя функции для проверки\n",
    "\n",
    "if can_import(module_name, function_name):\n",
    "    exec(f\"from {module_name} import {function_name}\")\n",
    "    print(f\"Функция {function_name} успешно импортирована из {module_name}.\")\n",
    "else:\n",
    "    print(f\"Функцию {function_name} нельзя импортировать из {module_name}.\")"
   ]
  },
  {
   "cell_type": "code",
   "execution_count": 2,
   "metadata": {},
   "outputs": [],
   "source": [
    "import importlib"
   ]
  },
  {
   "cell_type": "code",
   "execution_count": null,
   "metadata": {},
   "outputs": [],
   "source": []
  },
  {
   "cell_type": "code",
   "execution_count": 3,
   "metadata": {},
   "outputs": [
    {
     "data": {
      "text/plain": [
       "<module 'rdkit.Chem.Crippen' from '/home/kolyan288/.local/lib/python3.10/site-packages/rdkit/Chem/Crippen.py'>"
      ]
     },
     "execution_count": 3,
     "metadata": {},
     "output_type": "execute_result"
    }
   ],
   "source": [
    "importlib.import_module('rdkit.Chem.Crippen')"
   ]
  },
  {
   "cell_type": "code",
   "execution_count": 8,
   "metadata": {},
   "outputs": [],
   "source": [
    "exec('from rdkit.Chem.Crippen import MolLogP')\n",
    "exec('feat = MolLogP')"
   ]
  },
  {
   "cell_type": "code",
   "execution_count": 14,
   "metadata": {},
   "outputs": [
    {
     "data": {
      "text/plain": [
       "1.3175999999999999"
      ]
     },
     "execution_count": 14,
     "metadata": {},
     "output_type": "execute_result"
    }
   ],
   "source": [
    "feat(m1)"
   ]
  },
  {
   "cell_type": "code",
   "execution_count": null,
   "metadata": {},
   "outputs": [],
   "source": []
  }
 ],
 "metadata": {
  "kernelspec": {
   "display_name": "Global",
   "language": "python",
   "name": "python3"
  },
  "language_info": {
   "codemirror_mode": {
    "name": "ipython",
    "version": 3
   },
   "file_extension": ".py",
   "mimetype": "text/x-python",
   "name": "python",
   "nbconvert_exporter": "python",
   "pygments_lexer": "ipython3",
   "version": "3.10.14"
  }
 },
 "nbformat": 4,
 "nbformat_minor": 2
}
